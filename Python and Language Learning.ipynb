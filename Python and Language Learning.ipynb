{
 "cells": [
  {
   "cell_type": "code",
   "execution_count": 13,
   "metadata": {
    "slideshow": {
     "slide_type": "skip"
    }
   },
   "outputs": [],
   "source": [
    "from IPython.display import IFrame\n",
    "from mobilechelonian import Turtle"
   ]
  },
  {
   "cell_type": "markdown",
   "metadata": {
    "slideshow": {
     "slide_type": "slide"
    }
   },
   "source": [
    "# Language Requirements for Programming"
   ]
  },
  {
   "cell_type": "markdown",
   "metadata": {
    "slideshow": {
     "slide_type": "slide"
    }
   },
   "source": [
    "## Experiences Poll\n",
    "\n",
    "  - Is programming an important skill?  "
   ]
  },
  {
   "cell_type": "markdown",
   "metadata": {
    "slideshow": {
     "slide_type": "fragment"
    }
   },
   "source": [
    "  - How many years of programming experience do you have?"
   ]
  },
  {
   "cell_type": "markdown",
   "metadata": {
    "slideshow": {
     "slide_type": "fragment"
    }
   },
   "source": [
    "  - Formal programming education or self-taught?"
   ]
  },
  {
   "cell_type": "markdown",
   "metadata": {
    "slideshow": {
     "slide_type": "fragment"
    }
   },
   "source": [
    "  - How old were you when you reached B2-level English?"
   ]
  },
  {
   "cell_type": "markdown",
   "metadata": {
    "slideshow": {
     "slide_type": "subslide"
    }
   },
   "source": [
    "## Python 1999: \"Computer Programming for Everybody\"\n",
    "\n",
    "![](everybody.png)"
   ]
  },
  {
   "cell_type": "markdown",
   "metadata": {
    "slideshow": {
     "slide_type": "subslide"
    }
   },
   "source": [
    "## Problem: Everybody isn't Programming Yet\n",
    "\n",
    "![](pubchart.png)\n",
    "\n",
    "(2011 StackOverflow statistics)"
   ]
  },
  {
   "cell_type": "markdown",
   "metadata": {
    "slideshow": {
     "slide_type": "slide"
    }
   },
   "source": [
    "## Teaching Strategy: Minimize Knowledge Requirements for Learning a Skill\n",
    "\n",
    "To learn programming, do you think of:\n",
    "\n",
    "  - math?\n",
    "  \n",
    "  - logic skills?\n",
    "  \n",
    "  - computer hardware?\n",
    "  \n",
    "  - foreign languages?"
   ]
  },
  {
   "cell_type": "markdown",
   "metadata": {
    "slideshow": {
     "slide_type": "slide"
    }
   },
   "source": [
    "## Problem: Python is in English.  So is StackOverflow."
   ]
  },
  {
   "cell_type": "code",
   "execution_count": 18,
   "metadata": {},
   "outputs": [
    {
     "data": {
      "text/plain": [
       "Type help() for interactive help, or help(object) for help about object."
      ]
     },
     "execution_count": 18,
     "metadata": {},
     "output_type": "execute_result"
    }
   ],
   "source": [
    "help"
   ]
  },
  {
   "cell_type": "markdown",
   "metadata": {
    "slideshow": {
     "slide_type": "slide"
    }
   },
   "source": [
    "# Solutions: Ways to Make Programmers from Non-English Speakers"
   ]
  },
  {
   "cell_type": "markdown",
   "metadata": {
    "slideshow": {
     "slide_type": "subslide"
    }
   },
   "source": [
    "## Possible Solution 1: Program in a Different Language!"
   ]
  },
  {
   "cell_type": "markdown",
   "metadata": {},
   "source": [
    "![](nonenglish.png)"
   ]
  },
  {
   "attachments": {},
   "cell_type": "markdown",
   "metadata": {
    "slideshow": {
     "slide_type": "subslide"
    }
   },
   "source": [
    "## Possible Solution 2: Use Native Language Documentation and Learning Communities\n",
    "![](chinesebook.png)"
   ]
  },
  {
   "cell_type": "markdown",
   "metadata": {
    "slideshow": {
     "slide_type": "subslide"
    }
   },
   "source": [
    "## Possible Solution 3: Transpile Native Language code to English\n",
    "![](chinesepython.png)"
   ]
  },
  {
   "cell_type": "markdown",
   "metadata": {
    "slideshow": {
     "slide_type": "slide"
    }
   },
   "source": [
    "## My Proposal: Use Programming to Teach English\n"
   ]
  },
  {
   "cell_type": "markdown",
   "metadata": {
    "slideshow": {
     "slide_type": "subslide"
    }
   },
   "source": [
    "## The Python Language Doesn't Require Much English, to Start With\n",
    "![](keywords.png)"
   ]
  },
  {
   "cell_type": "markdown",
   "metadata": {
    "slideshow": {
     "slide_type": "subslide"
    }
   },
   "source": [
    "## The Python 3 Language is Foreign Language-Friendly, thanks to UTF8"
   ]
  },
  {
   "cell_type": "code",
   "execution_count": 5,
   "metadata": {},
   "outputs": [
    {
     "data": {
      "text/plain": [
       "8"
      ]
     },
     "execution_count": 5,
     "metadata": {},
     "output_type": "execute_result"
    }
   ],
   "source": [
    "руддщ = 3\n",
    "иии = 5\n",
    "руддщ + иии\n"
   ]
  },
  {
   "cell_type": "markdown",
   "metadata": {
    "slideshow": {
     "slide_type": "subslide"
    }
   },
   "source": [
    "## New Vocabulary can be Learned One Function at a Time"
   ]
  },
  {
   "cell_type": "code",
   "execution_count": 20,
   "metadata": {},
   "outputs": [
    {
     "data": {
      "application/vnd.jupyter.widget-view+json": {
       "model_id": "affd3f68229c4e8585c198024d2eab1d",
       "version_major": 2,
       "version_minor": 0
      },
      "text/plain": [
       "Turtle()"
      ]
     },
     "metadata": {},
     "output_type": "display_data"
    }
   ],
   "source": [
    "егкеду = Turtle()\n",
    "егкеду.speed(20)\n",
    "егкеду.forward(200)\n",
    "егкеду.left(90)\n",
    "егкеду.forward(100)\n",
    "егкеду.home()"
   ]
  },
  {
   "cell_type": "markdown",
   "metadata": {
    "slideshow": {
     "slide_type": "subslide"
    }
   },
   "source": [
    "## Documentation Can be Translated to ease function discovery\n",
    "![](helptranslator.png)"
   ]
  },
  {
   "cell_type": "code",
   "execution_count": 19,
   "metadata": {},
   "outputs": [
    {
     "name": "stdout",
     "output_type": "stream",
     "text": [
      "Requirement already satisfied: helptranslator in /home/nickdg/miniconda3/lib/python3.6/site-packages/helptranslator-0.0.1-py3.6.egg (0.0.1)\r\n",
      "Requirement already satisfied: googletrans in /home/nickdg/miniconda3/lib/python3.6/site-packages (from helptranslator) (2.2.0)\r\n",
      "Requirement already satisfied: requests in /home/nickdg/miniconda3/lib/python3.6/site-packages (from googletrans->helptranslator) (2.18.4)\r\n",
      "Requirement already satisfied: chardet<3.1.0,>=3.0.2 in /home/nickdg/miniconda3/lib/python3.6/site-packages (from requests->googletrans->helptranslator) (3.0.4)\r\n",
      "Requirement already satisfied: idna<2.7,>=2.5 in /home/nickdg/miniconda3/lib/python3.6/site-packages (from requests->googletrans->helptranslator) (2.6)\r\n",
      "Requirement already satisfied: urllib3<1.23,>=1.21.1 in /home/nickdg/miniconda3/lib/python3.6/site-packages (from requests->googletrans->helptranslator) (1.22)\r\n",
      "Requirement already satisfied: certifi>=2017.4.17 in /home/nickdg/miniconda3/lib/python3.6/site-packages (from requests->googletrans->helptranslator) (2018.1.18)\r\n"
     ]
    }
   ],
   "source": [
    "!pip install helptranslator"
   ]
  },
  {
   "cell_type": "markdown",
   "metadata": {
    "slideshow": {
     "slide_type": "subslide"
    }
   },
   "source": [
    "## Demo: helptranslator"
   ]
  },
  {
   "cell_type": "code",
   "execution_count": 22,
   "metadata": {},
   "outputs": [
    {
     "name": "stdout",
     "output_type": "stream",
     "text": [
      "帮助内置函数总和模块builtins：\n",
      "\n",
      "sum（iterable，start = 0，/）\n",
      "    返回“开始”值（默认值：0）加上可迭代的数字的总和\n",
      "    \n",
      "    当迭代器为空时，返回起始值。\n",
      "    此功能专门用于数字值和可能\n",
      "    拒绝非数字类型。"
     ]
    }
   ],
   "source": [
    "import helptranslator\n",
    "helptranslator.set_help_lang('chinese (simplified)')\n",
    "help(sum)"
   ]
  },
  {
   "cell_type": "markdown",
   "metadata": {
    "slideshow": {
     "slide_type": "slide"
    }
   },
   "source": [
    "## Conclusion: English Education + Python Education = Global Programming Community\n",
    "Thank you!\n",
    "![](children.jpg)"
   ]
  }
 ],
 "metadata": {
  "celltoolbar": "Slideshow",
  "kernelspec": {
   "display_name": "base",
   "language": "python",
   "name": "base"
  },
  "language_info": {
   "codemirror_mode": {
    "name": "ipython",
    "version": 3
   },
   "file_extension": ".py",
   "mimetype": "text/x-python",
   "name": "python",
   "nbconvert_exporter": "python",
   "pygments_lexer": "ipython3",
   "version": "3.6.3"
  }
 },
 "nbformat": 4,
 "nbformat_minor": 2
}
